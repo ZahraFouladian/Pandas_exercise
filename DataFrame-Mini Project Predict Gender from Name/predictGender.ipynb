{
 "cells": [
  {
   "cell_type": "markdown",
   "id": "2dde4354-32f5-4ca0-a39a-df0144f94c04",
   "metadata": {
    "tags": []
   },
   "source": [
    "## DataFrame Mini Project: Predict Gender from Name"
   ]
  },
  {
   "cell_type": "markdown",
   "id": "e1f13023-56aa-4ad2-867d-f4c3f7f109a1",
   "metadata": {
    "tags": []
   },
   "source": [
    "# Part 1"
   ]
  },
  {
   "cell_type": "markdown",
   "id": "e493f6a8-b46f-4315-89a4-4a73a8ccfe5b",
   "metadata": {
    "tags": []
   },
   "source": [
    "##  Table of Contents\n",
    "* required-libraries\n",
    "* generate-fake-data\n",
    "* extract-firstname-and-lastname\n",
    "* predict-gender\n",
    "* gender probability\n",
    "* country\n",
    "* country probability\n"
   ]
  },
  {
   "cell_type": "markdown",
   "id": "81ac235d-9bd6-4c9f-82bc-631ec37dd994",
   "metadata": {},
   "source": [
    "In this project we want to generate a fake dataset and predict gender from their names. For example a name like 'زهرا' looks like female"
   ]
  },
  {
   "cell_type": "markdown",
   "id": "72d342b3-9bf0-40f6-8fb1-47c8714063e2",
   "metadata": {
    "tags": []
   },
   "source": [
    "## required-libraries"
   ]
  },
  {
   "cell_type": "code",
   "execution_count": 6,
   "id": "f402a8e5-e174-4f2e-8d82-eab4923aa96e",
   "metadata": {
    "tags": []
   },
   "outputs": [],
   "source": [
    "from faker import Faker"
   ]
  },
  {
   "cell_type": "code",
   "execution_count": 7,
   "id": "ab16e27f-41af-48a7-80ff-123ab9cafaa5",
   "metadata": {
    "tags": []
   },
   "outputs": [],
   "source": [
    "from names_dataset import NameDataset"
   ]
  },
  {
   "cell_type": "code",
   "execution_count": 24,
   "id": "0a828c3f-e8bc-4884-8054-864ced41720c",
   "metadata": {
    "tags": []
   },
   "outputs": [
    {
     "data": {
      "text/plain": [
       "'Laura Campbell'"
      ]
     },
     "execution_count": 24,
     "metadata": {},
     "output_type": "execute_result"
    }
   ],
   "source": [
    "#english name\n",
    "english_name_fake = Faker()\n",
    "english_name_fake.name()"
   ]
  },
  {
   "cell_type": "code",
   "execution_count": 25,
   "id": "d7d129d3-b831-4a47-add0-94d496427035",
   "metadata": {
    "tags": []
   },
   "outputs": [
    {
     "data": {
      "text/plain": [
       "'باران عزیزی'"
      ]
     },
     "execution_count": 25,
     "metadata": {},
     "output_type": "execute_result"
    }
   ],
   "source": [
    "#farsi name\n",
    "persisn_name_fake = Faker('Fa')\n",
    "persisn_name_fake.name()"
   ]
  },
  {
   "cell_type": "code",
   "execution_count": 11,
   "id": "725d709c-e343-459c-ad0a-5458364fd6d8",
   "metadata": {
    "tags": []
   },
   "outputs": [],
   "source": [
    "from names_dataset import NameDataset\n",
    "# This line takes time some time as the database is massive."
   ]
  },
  {
   "cell_type": "code",
   "execution_count": 12,
   "id": "12e8351e-db27-46d7-9779-f076534cac9f",
   "metadata": {
    "tags": []
   },
   "outputs": [
    {
     "data": {
      "text/plain": [
       "<names_dataset.nd_v3.NameDataset at 0x7f0920cdc4c0>"
      ]
     },
     "execution_count": 12,
     "metadata": {},
     "output_type": "execute_result"
    }
   ],
   "source": [
    "name_data_set = NameDataset()\n",
    "name_data_set"
   ]
  },
  {
   "cell_type": "code",
   "execution_count": 13,
   "id": "3a7c8ff0-b0e9-4897-af6f-a11d2bb66ce6",
   "metadata": {
    "tags": []
   },
   "outputs": [
    {
     "data": {
      "text/plain": [
       "{'first_name': {'country': {'Afghanistan': 0.115,\n",
       "   'Algeria': 0.012,\n",
       "   'Egypt': 0.045,\n",
       "   'Iraq': 0.178,\n",
       "   'Iran, Islamic Republic of': 0.416,\n",
       "   'Saudi Arabia': 0.095,\n",
       "   'Sudan': 0.041,\n",
       "   'Syrian Arab Republic': 0.05,\n",
       "   'Turkey': 0.036,\n",
       "   'Yemen': 0.013},\n",
       "  'gender': {'Female': 0.919, 'Male': 0.081},\n",
       "  'rank': {'Afghanistan': 203,\n",
       "   'Egypt': 16220,\n",
       "   'Iraq': 3684,\n",
       "   'Iran, Islamic Republic of': 415,\n",
       "   'Saudi Arabia': 11069,\n",
       "   'Sudan': 7276,\n",
       "   'Syrian Arab Republic': 4855,\n",
       "   'Turkey': 7299,\n",
       "   'Yemen': 8512,\n",
       "   'Algeria': None}},\n",
       " 'last_name': {'country': {'Afghanistan': 0.043,\n",
       "   'Algeria': 0.045,\n",
       "   'Egypt': 0.053,\n",
       "   'Iraq': 0.256,\n",
       "   'Iran, Islamic Republic of': 0.092,\n",
       "   'Saudi Arabia': 0.089,\n",
       "   'Sudan': 0.055,\n",
       "   'Syrian Arab Republic': 0.243,\n",
       "   'Turkey': 0.049,\n",
       "   'Yemen': 0.075},\n",
       "  'gender': {},\n",
       "  'rank': {'Afghanistan': 2194,\n",
       "   'Iraq': 8717,\n",
       "   'Iran, Islamic Republic of': 6838,\n",
       "   'Syrian Arab Republic': 5545,\n",
       "   'Yemen': 9258,\n",
       "   'Algeria': None,\n",
       "   'Egypt': None,\n",
       "   'Saudi Arabia': None,\n",
       "   'Sudan': None,\n",
       "   'Turkey': None}}}"
      ]
     },
     "execution_count": 13,
     "metadata": {},
     "output_type": "execute_result"
    }
   ],
   "source": [
    "name_data_set.search('زهرا')"
   ]
  },
  {
   "cell_type": "code",
   "execution_count": 17,
   "id": "0b46c36b-37cc-4cda-952b-75594bcc6512",
   "metadata": {
    "tags": []
   },
   "outputs": [
    {
     "data": {
      "text/plain": [
       "{'Female': 0.919, 'Male': 0.081}"
      ]
     },
     "execution_count": 17,
     "metadata": {},
     "output_type": "execute_result"
    }
   ],
   "source": [
    "name_data_set.search('زهرا')['first_name']['gender']"
   ]
  },
  {
   "cell_type": "code",
   "execution_count": 18,
   "id": "3734d2d5-52ca-4fa1-982f-f3c5be8266b6",
   "metadata": {
    "tags": []
   },
   "outputs": [
    {
     "data": {
      "text/plain": [
       "{'Afghanistan': 0.115,\n",
       " 'Algeria': 0.012,\n",
       " 'Egypt': 0.045,\n",
       " 'Iraq': 0.178,\n",
       " 'Iran, Islamic Republic of': 0.416,\n",
       " 'Saudi Arabia': 0.095,\n",
       " 'Sudan': 0.041,\n",
       " 'Syrian Arab Republic': 0.05,\n",
       " 'Turkey': 0.036,\n",
       " 'Yemen': 0.013}"
      ]
     },
     "execution_count": 18,
     "metadata": {},
     "output_type": "execute_result"
    }
   ],
   "source": [
    "name_data_set.search('زهرا')['first_name']['country']"
   ]
  },
  {
   "cell_type": "code",
   "execution_count": 19,
   "id": "cfd530ec-9e58-4f8a-922b-6d7d91a576cf",
   "metadata": {
    "tags": []
   },
   "outputs": [
    {
     "data": {
      "text/plain": [
       "{'Algeria': 0.1,\n",
       " 'Egypt': 0.108,\n",
       " 'France': 0.037,\n",
       " 'Iraq': 0.064,\n",
       " 'Iran, Islamic Republic of': 0.15,\n",
       " 'Morocco': 0.316,\n",
       " 'Saudi Arabia': 0.119,\n",
       " 'Syrian Arab Republic': 0.026,\n",
       " 'Tunisia': 0.052,\n",
       " 'United States': 0.028}"
      ]
     },
     "execution_count": 19,
     "metadata": {},
     "output_type": "execute_result"
    }
   ],
   "source": [
    "name_data_set.search('zahra')['first_name']['country']"
   ]
  },
  {
   "cell_type": "code",
   "execution_count": 94,
   "id": "b1e37ae2-efe6-4884-8a98-7b9c69bf32f2",
   "metadata": {
    "tags": []
   },
   "outputs": [
    {
     "data": {
      "text/plain": [
       "{'United Arab Emirates': 0.018,\n",
       " 'Algeria': 0.093,\n",
       " 'Egypt': 0.092,\n",
       " 'France': 0.021,\n",
       " 'Iraq': 0.028,\n",
       " 'Morocco': 0.529,\n",
       " 'Malaysia': 0.059,\n",
       " 'Saudi Arabia': 0.063,\n",
       " 'Syrian Arab Republic': 0.036,\n",
       " 'Tunisia': 0.062}"
      ]
     },
     "execution_count": 94,
     "metadata": {},
     "output_type": "execute_result"
    }
   ],
   "source": [
    "name_data_set.search('zahra')['last_name']['country']"
   ]
  },
  {
   "cell_type": "markdown",
   "id": "c1770bfe-d28b-4519-bc33-ab09d7d5d6db",
   "metadata": {
    "tags": []
   },
   "source": [
    "## Generate Fake Data"
   ]
  },
  {
   "cell_type": "code",
   "execution_count": 68,
   "id": "8ff6a17e-6194-45b2-a41b-73d6e167e1db",
   "metadata": {
    "tags": []
   },
   "outputs": [],
   "source": [
    "import pandas as pd\n",
    "import numpy as np"
   ]
  },
  {
   "cell_type": "code",
   "execution_count": 69,
   "id": "d5368616-0e0f-4eda-972d-fe5d17a676d2",
   "metadata": {
    "tags": []
   },
   "outputs": [],
   "source": [
    "def make_name():\n",
    "    \"\"\"\n",
    "        This function generate an Iranian name in 50% of the times and\n",
    "        an English name in the other 50% of the times.\n",
    "    \"\"\"\n",
    "    return english_name_fake.name() if np.random.rand() > 0.5 else persisn_name_fake.name()\n",
    "   "
   ]
  },
  {
   "cell_type": "code",
   "execution_count": 80,
   "id": "04822114-2462-4f9e-9b5b-01954e8636f7",
   "metadata": {
    "tags": []
   },
   "outputs": [],
   "source": [
    "name = {\n",
    "    'Name':[make_name() for _ in range(10)]\n",
    "    }\n",
    "df = pd.DataFrame(name)"
   ]
  },
  {
   "cell_type": "code",
   "execution_count": 81,
   "id": "21506760-786c-41bc-a330-1c45273027a2",
   "metadata": {
    "tags": []
   },
   "outputs": [
    {
     "data": {
      "text/html": [
       "<div>\n",
       "<style scoped>\n",
       "    .dataframe tbody tr th:only-of-type {\n",
       "        vertical-align: middle;\n",
       "    }\n",
       "\n",
       "    .dataframe tbody tr th {\n",
       "        vertical-align: top;\n",
       "    }\n",
       "\n",
       "    .dataframe thead th {\n",
       "        text-align: right;\n",
       "    }\n",
       "</style>\n",
       "<table border=\"1\" class=\"dataframe\">\n",
       "  <thead>\n",
       "    <tr style=\"text-align: right;\">\n",
       "      <th></th>\n",
       "      <th>Name</th>\n",
       "    </tr>\n",
       "  </thead>\n",
       "  <tbody>\n",
       "    <tr>\n",
       "      <th>0</th>\n",
       "      <td>Julie Washington</td>\n",
       "    </tr>\n",
       "    <tr>\n",
       "      <th>1</th>\n",
       "      <td>امیرعباس تهرانی</td>\n",
       "    </tr>\n",
       "    <tr>\n",
       "      <th>2</th>\n",
       "      <td>Stephanie Crawford</td>\n",
       "    </tr>\n",
       "    <tr>\n",
       "      <th>3</th>\n",
       "      <td>Charles Anderson</td>\n",
       "    </tr>\n",
       "    <tr>\n",
       "      <th>4</th>\n",
       "      <td>Courtney Stewart</td>\n",
       "    </tr>\n",
       "    <tr>\n",
       "      <th>5</th>\n",
       "      <td>Andre Davis</td>\n",
       "    </tr>\n",
       "    <tr>\n",
       "      <th>6</th>\n",
       "      <td>Stephanie Rodriguez</td>\n",
       "    </tr>\n",
       "    <tr>\n",
       "      <th>7</th>\n",
       "      <td>Tina Simmons</td>\n",
       "    </tr>\n",
       "    <tr>\n",
       "      <th>8</th>\n",
       "      <td>اسرا زارعی</td>\n",
       "    </tr>\n",
       "    <tr>\n",
       "      <th>9</th>\n",
       "      <td>یلدا اکبر پور</td>\n",
       "    </tr>\n",
       "  </tbody>\n",
       "</table>\n",
       "</div>"
      ],
      "text/plain": [
       "                  Name\n",
       "0     Julie Washington\n",
       "1      امیرعباس تهرانی\n",
       "2   Stephanie Crawford\n",
       "3     Charles Anderson\n",
       "4     Courtney Stewart\n",
       "5          Andre Davis\n",
       "6  Stephanie Rodriguez\n",
       "7         Tina Simmons\n",
       "8           اسرا زارعی\n",
       "9        یلدا اکبر پور"
      ]
     },
     "execution_count": 81,
     "metadata": {},
     "output_type": "execute_result"
    }
   ],
   "source": [
    "df"
   ]
  },
  {
   "cell_type": "markdown",
   "id": "a3a42a3c-7b9b-4529-871e-0d31e6a4fbf8",
   "metadata": {
    "tags": []
   },
   "source": [
    "## Extract First name and Last name"
   ]
  },
  {
   "cell_type": "code",
   "execution_count": 82,
   "id": "bb1b657b-8348-4994-ad14-03c0fa525ebc",
   "metadata": {
    "tags": []
   },
   "outputs": [],
   "source": [
    "def name_to_gender(first_name):\n",
    "    try:\n",
    "        gender_dict = name_data_set.search(first_name)['first_name']['gender']\n",
    "        return 'Femel' if gender_dict['Female'] > gender_dict['Male'] else 'Male'\n",
    "    except:\n",
    "           return None\n",
    "   "
   ]
  },
  {
   "cell_type": "code",
   "execution_count": 83,
   "id": "dc636cab-093f-4d18-89b5-a037f844e24b",
   "metadata": {
    "tags": []
   },
   "outputs": [
    {
     "data": {
      "text/html": [
       "<div>\n",
       "<style scoped>\n",
       "    .dataframe tbody tr th:only-of-type {\n",
       "        vertical-align: middle;\n",
       "    }\n",
       "\n",
       "    .dataframe tbody tr th {\n",
       "        vertical-align: top;\n",
       "    }\n",
       "\n",
       "    .dataframe thead th {\n",
       "        text-align: right;\n",
       "    }\n",
       "</style>\n",
       "<table border=\"1\" class=\"dataframe\">\n",
       "  <thead>\n",
       "    <tr style=\"text-align: right;\">\n",
       "      <th></th>\n",
       "      <th>Name</th>\n",
       "      <th>first_name</th>\n",
       "      <th>last_name</th>\n",
       "    </tr>\n",
       "  </thead>\n",
       "  <tbody>\n",
       "    <tr>\n",
       "      <th>0</th>\n",
       "      <td>Julie Washington</td>\n",
       "      <td>Julie</td>\n",
       "      <td>Washington</td>\n",
       "    </tr>\n",
       "    <tr>\n",
       "      <th>1</th>\n",
       "      <td>امیرعباس تهرانی</td>\n",
       "      <td>امیرعباس</td>\n",
       "      <td>تهرانی</td>\n",
       "    </tr>\n",
       "    <tr>\n",
       "      <th>2</th>\n",
       "      <td>Stephanie Crawford</td>\n",
       "      <td>Stephanie</td>\n",
       "      <td>Crawford</td>\n",
       "    </tr>\n",
       "    <tr>\n",
       "      <th>3</th>\n",
       "      <td>Charles Anderson</td>\n",
       "      <td>Charles</td>\n",
       "      <td>Anderson</td>\n",
       "    </tr>\n",
       "    <tr>\n",
       "      <th>4</th>\n",
       "      <td>Courtney Stewart</td>\n",
       "      <td>Courtney</td>\n",
       "      <td>Stewart</td>\n",
       "    </tr>\n",
       "    <tr>\n",
       "      <th>5</th>\n",
       "      <td>Andre Davis</td>\n",
       "      <td>Andre</td>\n",
       "      <td>Davis</td>\n",
       "    </tr>\n",
       "    <tr>\n",
       "      <th>6</th>\n",
       "      <td>Stephanie Rodriguez</td>\n",
       "      <td>Stephanie</td>\n",
       "      <td>Rodriguez</td>\n",
       "    </tr>\n",
       "    <tr>\n",
       "      <th>7</th>\n",
       "      <td>Tina Simmons</td>\n",
       "      <td>Tina</td>\n",
       "      <td>Simmons</td>\n",
       "    </tr>\n",
       "    <tr>\n",
       "      <th>8</th>\n",
       "      <td>اسرا زارعی</td>\n",
       "      <td>اسرا</td>\n",
       "      <td>زارعی</td>\n",
       "    </tr>\n",
       "    <tr>\n",
       "      <th>9</th>\n",
       "      <td>یلدا اکبر پور</td>\n",
       "      <td>یلدا</td>\n",
       "      <td>اکبر</td>\n",
       "    </tr>\n",
       "  </tbody>\n",
       "</table>\n",
       "</div>"
      ],
      "text/plain": [
       "                  Name first_name   last_name\n",
       "0     Julie Washington      Julie  Washington\n",
       "1      امیرعباس تهرانی   امیرعباس      تهرانی\n",
       "2   Stephanie Crawford  Stephanie    Crawford\n",
       "3     Charles Anderson    Charles    Anderson\n",
       "4     Courtney Stewart   Courtney     Stewart\n",
       "5          Andre Davis      Andre       Davis\n",
       "6  Stephanie Rodriguez  Stephanie   Rodriguez\n",
       "7         Tina Simmons       Tina     Simmons\n",
       "8           اسرا زارعی       اسرا       زارعی\n",
       "9        یلدا اکبر پور       یلدا        اکبر"
      ]
     },
     "execution_count": 83,
     "metadata": {},
     "output_type": "execute_result"
    }
   ],
   "source": [
    "df = df.assign(first_name = df['Name'].apply(lambda full_name: full_name.split()[0]))\n",
    "df = df.assign(last_name = df['Name'].apply(lambda full_name: full_name.split()[1]))\n",
    "df"
   ]
  },
  {
   "cell_type": "markdown",
   "id": "1ae04fca-ed3c-40c8-a2ae-e09222b6ad91",
   "metadata": {
    "tags": []
   },
   "source": [
    "## Predict Gender"
   ]
  },
  {
   "cell_type": "code",
   "execution_count": 84,
   "id": "7733af12-9293-4548-be36-5be31bd5234d",
   "metadata": {
    "tags": []
   },
   "outputs": [],
   "source": [
    "def name_to_gender(first_name):\n",
    "    try:\n",
    "        gender_dict = name_data_set.search(first_name)['first_name']['gender']\n",
    "        return 'Femel' if gender_dict['Female'] > gender_dict['Male'] else 'Male'\n",
    "    except:\n",
    "            return None"
   ]
  },
  {
   "cell_type": "code",
   "execution_count": 43,
   "id": "2440ceeb-8046-4f45-b45a-571cd016cf6f",
   "metadata": {
    "tags": []
   },
   "outputs": [
    {
     "name": "stdout",
     "output_type": "stream",
     "text": [
      "Femel\n"
     ]
    }
   ],
   "source": [
    "print(name_to_gender('محدثه'))"
   ]
  },
  {
   "cell_type": "code",
   "execution_count": 46,
   "id": "d87dd8d6-4a70-4963-ac6c-08f687c80b8a",
   "metadata": {
    "tags": []
   },
   "outputs": [
    {
     "name": "stdout",
     "output_type": "stream",
     "text": [
      "Male\n"
     ]
    }
   ],
   "source": [
    "print(name_to_gender('jack'))"
   ]
  },
  {
   "cell_type": "code",
   "execution_count": 85,
   "id": "444faec7-0b30-45b6-aa78-32350b7293f4",
   "metadata": {
    "tags": []
   },
   "outputs": [],
   "source": [
    "df = df.assign(Gender = df['first_name'].apply(lambda x: name_to_gender(x)))"
   ]
  },
  {
   "cell_type": "code",
   "execution_count": 86,
   "id": "b3a2589e-d70e-44e4-b19f-8b13c000c2fa",
   "metadata": {
    "tags": []
   },
   "outputs": [
    {
     "data": {
      "text/html": [
       "<div>\n",
       "<style scoped>\n",
       "    .dataframe tbody tr th:only-of-type {\n",
       "        vertical-align: middle;\n",
       "    }\n",
       "\n",
       "    .dataframe tbody tr th {\n",
       "        vertical-align: top;\n",
       "    }\n",
       "\n",
       "    .dataframe thead th {\n",
       "        text-align: right;\n",
       "    }\n",
       "</style>\n",
       "<table border=\"1\" class=\"dataframe\">\n",
       "  <thead>\n",
       "    <tr style=\"text-align: right;\">\n",
       "      <th></th>\n",
       "      <th>Name</th>\n",
       "      <th>first_name</th>\n",
       "      <th>last_name</th>\n",
       "      <th>Gender</th>\n",
       "    </tr>\n",
       "  </thead>\n",
       "  <tbody>\n",
       "    <tr>\n",
       "      <th>0</th>\n",
       "      <td>Julie Washington</td>\n",
       "      <td>Julie</td>\n",
       "      <td>Washington</td>\n",
       "      <td>Femel</td>\n",
       "    </tr>\n",
       "    <tr>\n",
       "      <th>1</th>\n",
       "      <td>امیرعباس تهرانی</td>\n",
       "      <td>امیرعباس</td>\n",
       "      <td>تهرانی</td>\n",
       "      <td>Male</td>\n",
       "    </tr>\n",
       "    <tr>\n",
       "      <th>2</th>\n",
       "      <td>Stephanie Crawford</td>\n",
       "      <td>Stephanie</td>\n",
       "      <td>Crawford</td>\n",
       "      <td>Femel</td>\n",
       "    </tr>\n",
       "    <tr>\n",
       "      <th>3</th>\n",
       "      <td>Charles Anderson</td>\n",
       "      <td>Charles</td>\n",
       "      <td>Anderson</td>\n",
       "      <td>Male</td>\n",
       "    </tr>\n",
       "    <tr>\n",
       "      <th>4</th>\n",
       "      <td>Courtney Stewart</td>\n",
       "      <td>Courtney</td>\n",
       "      <td>Stewart</td>\n",
       "      <td>Femel</td>\n",
       "    </tr>\n",
       "    <tr>\n",
       "      <th>5</th>\n",
       "      <td>Andre Davis</td>\n",
       "      <td>Andre</td>\n",
       "      <td>Davis</td>\n",
       "      <td>Male</td>\n",
       "    </tr>\n",
       "    <tr>\n",
       "      <th>6</th>\n",
       "      <td>Stephanie Rodriguez</td>\n",
       "      <td>Stephanie</td>\n",
       "      <td>Rodriguez</td>\n",
       "      <td>Femel</td>\n",
       "    </tr>\n",
       "    <tr>\n",
       "      <th>7</th>\n",
       "      <td>Tina Simmons</td>\n",
       "      <td>Tina</td>\n",
       "      <td>Simmons</td>\n",
       "      <td>Femel</td>\n",
       "    </tr>\n",
       "    <tr>\n",
       "      <th>8</th>\n",
       "      <td>اسرا زارعی</td>\n",
       "      <td>اسرا</td>\n",
       "      <td>زارعی</td>\n",
       "      <td>Femel</td>\n",
       "    </tr>\n",
       "    <tr>\n",
       "      <th>9</th>\n",
       "      <td>یلدا اکبر پور</td>\n",
       "      <td>یلدا</td>\n",
       "      <td>اکبر</td>\n",
       "      <td>Femel</td>\n",
       "    </tr>\n",
       "  </tbody>\n",
       "</table>\n",
       "</div>"
      ],
      "text/plain": [
       "                  Name first_name   last_name Gender\n",
       "0     Julie Washington      Julie  Washington  Femel\n",
       "1      امیرعباس تهرانی   امیرعباس      تهرانی   Male\n",
       "2   Stephanie Crawford  Stephanie    Crawford  Femel\n",
       "3     Charles Anderson    Charles    Anderson   Male\n",
       "4     Courtney Stewart   Courtney     Stewart  Femel\n",
       "5          Andre Davis      Andre       Davis   Male\n",
       "6  Stephanie Rodriguez  Stephanie   Rodriguez  Femel\n",
       "7         Tina Simmons       Tina     Simmons  Femel\n",
       "8           اسرا زارعی       اسرا       زارعی  Femel\n",
       "9        یلدا اکبر پور       یلدا        اکبر  Femel"
      ]
     },
     "execution_count": 86,
     "metadata": {},
     "output_type": "execute_result"
    }
   ],
   "source": [
    "df"
   ]
  },
  {
   "cell_type": "markdown",
   "id": "d952ab0b-eeee-43ba-9d32-2ad61fb973e6",
   "metadata": {},
   "source": [
    "## Gender Probability"
   ]
  },
  {
   "cell_type": "code",
   "execution_count": 87,
   "id": "6ec265c0-66b3-44e2-8d02-fb7dcc68cc93",
   "metadata": {
    "tags": []
   },
   "outputs": [],
   "source": [
    "def name_to_gender_probabilty(first_name):\n",
    "    try:\n",
    "        gender_dict = name_data_set.search(first_name)['first_name']['gender']\n",
    "        return gender_dict['Female'] if gender_dict['Female'] > gender_dict['Male'] else gender_dict['Male']\n",
    "    except:\n",
    "        return None"
   ]
  },
  {
   "cell_type": "code",
   "execution_count": 51,
   "id": "f59afc34-321e-46fb-8e0f-328c79bb1e82",
   "metadata": {
    "tags": []
   },
   "outputs": [
    {
     "name": "stdout",
     "output_type": "stream",
     "text": [
      "0.968\n"
     ]
    }
   ],
   "source": [
    "print(name_to_gender_probabilty('jack'))"
   ]
  },
  {
   "cell_type": "code",
   "execution_count": 52,
   "id": "c90b8194-121b-4924-b42c-8cf84bec9cc6",
   "metadata": {
    "tags": []
   },
   "outputs": [
    {
     "name": "stdout",
     "output_type": "stream",
     "text": [
      "0.96\n"
     ]
    }
   ],
   "source": [
    "print(name_to_gender_probabilty('zahra'))"
   ]
  },
  {
   "cell_type": "code",
   "execution_count": 88,
   "id": "098058a7-6acc-4784-88ab-bbe2cb2a3c17",
   "metadata": {
    "tags": []
   },
   "outputs": [],
   "source": [
    "df = df.assign(Gender_Probability = df['first_name'].apply(lambda x: name_to_gender_probabilty(x)))"
   ]
  },
  {
   "cell_type": "code",
   "execution_count": 89,
   "id": "f1fdd426-1cc5-4d2b-b97b-63ac92ad3feb",
   "metadata": {
    "tags": []
   },
   "outputs": [
    {
     "data": {
      "text/html": [
       "<div>\n",
       "<style scoped>\n",
       "    .dataframe tbody tr th:only-of-type {\n",
       "        vertical-align: middle;\n",
       "    }\n",
       "\n",
       "    .dataframe tbody tr th {\n",
       "        vertical-align: top;\n",
       "    }\n",
       "\n",
       "    .dataframe thead th {\n",
       "        text-align: right;\n",
       "    }\n",
       "</style>\n",
       "<table border=\"1\" class=\"dataframe\">\n",
       "  <thead>\n",
       "    <tr style=\"text-align: right;\">\n",
       "      <th></th>\n",
       "      <th>Name</th>\n",
       "      <th>first_name</th>\n",
       "      <th>last_name</th>\n",
       "      <th>Gender</th>\n",
       "      <th>Gender_Probability</th>\n",
       "    </tr>\n",
       "  </thead>\n",
       "  <tbody>\n",
       "    <tr>\n",
       "      <th>0</th>\n",
       "      <td>Julie Washington</td>\n",
       "      <td>Julie</td>\n",
       "      <td>Washington</td>\n",
       "      <td>Femel</td>\n",
       "      <td>0.991</td>\n",
       "    </tr>\n",
       "    <tr>\n",
       "      <th>1</th>\n",
       "      <td>امیرعباس تهرانی</td>\n",
       "      <td>امیرعباس</td>\n",
       "      <td>تهرانی</td>\n",
       "      <td>Male</td>\n",
       "      <td>0.953</td>\n",
       "    </tr>\n",
       "    <tr>\n",
       "      <th>2</th>\n",
       "      <td>Stephanie Crawford</td>\n",
       "      <td>Stephanie</td>\n",
       "      <td>Crawford</td>\n",
       "      <td>Femel</td>\n",
       "      <td>0.995</td>\n",
       "    </tr>\n",
       "    <tr>\n",
       "      <th>3</th>\n",
       "      <td>Charles Anderson</td>\n",
       "      <td>Charles</td>\n",
       "      <td>Anderson</td>\n",
       "      <td>Male</td>\n",
       "      <td>0.984</td>\n",
       "    </tr>\n",
       "    <tr>\n",
       "      <th>4</th>\n",
       "      <td>Courtney Stewart</td>\n",
       "      <td>Courtney</td>\n",
       "      <td>Stewart</td>\n",
       "      <td>Femel</td>\n",
       "      <td>0.890</td>\n",
       "    </tr>\n",
       "    <tr>\n",
       "      <th>5</th>\n",
       "      <td>Andre Davis</td>\n",
       "      <td>Andre</td>\n",
       "      <td>Davis</td>\n",
       "      <td>Male</td>\n",
       "      <td>0.934</td>\n",
       "    </tr>\n",
       "    <tr>\n",
       "      <th>6</th>\n",
       "      <td>Stephanie Rodriguez</td>\n",
       "      <td>Stephanie</td>\n",
       "      <td>Rodriguez</td>\n",
       "      <td>Femel</td>\n",
       "      <td>0.995</td>\n",
       "    </tr>\n",
       "    <tr>\n",
       "      <th>7</th>\n",
       "      <td>Tina Simmons</td>\n",
       "      <td>Tina</td>\n",
       "      <td>Simmons</td>\n",
       "      <td>Femel</td>\n",
       "      <td>0.986</td>\n",
       "    </tr>\n",
       "    <tr>\n",
       "      <th>8</th>\n",
       "      <td>اسرا زارعی</td>\n",
       "      <td>اسرا</td>\n",
       "      <td>زارعی</td>\n",
       "      <td>Femel</td>\n",
       "      <td>0.885</td>\n",
       "    </tr>\n",
       "    <tr>\n",
       "      <th>9</th>\n",
       "      <td>یلدا اکبر پور</td>\n",
       "      <td>یلدا</td>\n",
       "      <td>اکبر</td>\n",
       "      <td>Femel</td>\n",
       "      <td>0.851</td>\n",
       "    </tr>\n",
       "  </tbody>\n",
       "</table>\n",
       "</div>"
      ],
      "text/plain": [
       "                  Name first_name   last_name Gender  Gender_Probability\n",
       "0     Julie Washington      Julie  Washington  Femel               0.991\n",
       "1      امیرعباس تهرانی   امیرعباس      تهرانی   Male               0.953\n",
       "2   Stephanie Crawford  Stephanie    Crawford  Femel               0.995\n",
       "3     Charles Anderson    Charles    Anderson   Male               0.984\n",
       "4     Courtney Stewart   Courtney     Stewart  Femel               0.890\n",
       "5          Andre Davis      Andre       Davis   Male               0.934\n",
       "6  Stephanie Rodriguez  Stephanie   Rodriguez  Femel               0.995\n",
       "7         Tina Simmons       Tina     Simmons  Femel               0.986\n",
       "8           اسرا زارعی       اسرا       زارعی  Femel               0.885\n",
       "9        یلدا اکبر پور       یلدا        اکبر  Femel               0.851"
      ]
     },
     "execution_count": 89,
     "metadata": {},
     "output_type": "execute_result"
    }
   ],
   "source": [
    "df\n"
   ]
  },
  {
   "cell_type": "markdown",
   "id": "4ed882b3-bccd-453e-85b2-9a53ccc14627",
   "metadata": {},
   "source": [
    "## Country"
   ]
  },
  {
   "cell_type": "code",
   "execution_count": 106,
   "id": "12e69e45-dd9e-480b-9729-1539445bcb45",
   "metadata": {
    "tags": []
   },
   "outputs": [],
   "source": [
    "def country(last_name):\n",
    "    try:\n",
    "        info = name_data_set.search(last_name)['last_name']\n",
    "        return max(info['country'], key=info['country'].get)\n",
    "    except:    \n",
    "        return None"
   ]
  },
  {
   "cell_type": "code",
   "execution_count": 107,
   "id": "705a5741-fff5-4bf8-bbc5-36e2496d4840",
   "metadata": {
    "tags": []
   },
   "outputs": [
    {
     "name": "stdout",
     "output_type": "stream",
     "text": [
      "Iran, Islamic Republic of\n"
     ]
    }
   ],
   "source": [
    "print(country('زارعی'))"
   ]
  },
  {
   "cell_type": "code",
   "execution_count": 108,
   "id": "ad44c4b7-4d13-48fd-a1d0-a6ecd5d13eaf",
   "metadata": {
    "tags": []
   },
   "outputs": [
    {
     "name": "stdout",
     "output_type": "stream",
     "text": [
      "Nigeria\n"
     ]
    }
   ],
   "source": [
    "print(country('Davise'))"
   ]
  },
  {
   "cell_type": "code",
   "execution_count": 109,
   "id": "e46914a0-91c4-4f8b-b8d2-e3c62d7eb16e",
   "metadata": {
    "tags": []
   },
   "outputs": [],
   "source": [
    "df = df.assign(Country = df['last_name'].apply(lambda x: country(x)))"
   ]
  },
  {
   "cell_type": "code",
   "execution_count": 110,
   "id": "1b8da215-5eb0-428c-94b6-6f5337d41b47",
   "metadata": {
    "tags": []
   },
   "outputs": [
    {
     "data": {
      "text/html": [
       "<div>\n",
       "<style scoped>\n",
       "    .dataframe tbody tr th:only-of-type {\n",
       "        vertical-align: middle;\n",
       "    }\n",
       "\n",
       "    .dataframe tbody tr th {\n",
       "        vertical-align: top;\n",
       "    }\n",
       "\n",
       "    .dataframe thead th {\n",
       "        text-align: right;\n",
       "    }\n",
       "</style>\n",
       "<table border=\"1\" class=\"dataframe\">\n",
       "  <thead>\n",
       "    <tr style=\"text-align: right;\">\n",
       "      <th></th>\n",
       "      <th>Name</th>\n",
       "      <th>first_name</th>\n",
       "      <th>last_name</th>\n",
       "      <th>Gender</th>\n",
       "      <th>Gender_Probability</th>\n",
       "      <th>Country</th>\n",
       "    </tr>\n",
       "  </thead>\n",
       "  <tbody>\n",
       "    <tr>\n",
       "      <th>0</th>\n",
       "      <td>Julie Washington</td>\n",
       "      <td>Julie</td>\n",
       "      <td>Washington</td>\n",
       "      <td>Femel</td>\n",
       "      <td>0.991</td>\n",
       "      <td>United States</td>\n",
       "    </tr>\n",
       "    <tr>\n",
       "      <th>1</th>\n",
       "      <td>امیرعباس تهرانی</td>\n",
       "      <td>امیرعباس</td>\n",
       "      <td>تهرانی</td>\n",
       "      <td>Male</td>\n",
       "      <td>0.953</td>\n",
       "      <td>Iran, Islamic Republic of</td>\n",
       "    </tr>\n",
       "    <tr>\n",
       "      <th>2</th>\n",
       "      <td>Stephanie Crawford</td>\n",
       "      <td>Stephanie</td>\n",
       "      <td>Crawford</td>\n",
       "      <td>Femel</td>\n",
       "      <td>0.995</td>\n",
       "      <td>United States</td>\n",
       "    </tr>\n",
       "    <tr>\n",
       "      <th>3</th>\n",
       "      <td>Charles Anderson</td>\n",
       "      <td>Charles</td>\n",
       "      <td>Anderson</td>\n",
       "      <td>Male</td>\n",
       "      <td>0.984</td>\n",
       "      <td>United States</td>\n",
       "    </tr>\n",
       "    <tr>\n",
       "      <th>4</th>\n",
       "      <td>Courtney Stewart</td>\n",
       "      <td>Courtney</td>\n",
       "      <td>Stewart</td>\n",
       "      <td>Femel</td>\n",
       "      <td>0.890</td>\n",
       "      <td>United States</td>\n",
       "    </tr>\n",
       "    <tr>\n",
       "      <th>5</th>\n",
       "      <td>Andre Davis</td>\n",
       "      <td>Andre</td>\n",
       "      <td>Davis</td>\n",
       "      <td>Male</td>\n",
       "      <td>0.934</td>\n",
       "      <td>United States</td>\n",
       "    </tr>\n",
       "    <tr>\n",
       "      <th>6</th>\n",
       "      <td>Stephanie Rodriguez</td>\n",
       "      <td>Stephanie</td>\n",
       "      <td>Rodriguez</td>\n",
       "      <td>Femel</td>\n",
       "      <td>0.995</td>\n",
       "      <td>United States</td>\n",
       "    </tr>\n",
       "    <tr>\n",
       "      <th>7</th>\n",
       "      <td>Tina Simmons</td>\n",
       "      <td>Tina</td>\n",
       "      <td>Simmons</td>\n",
       "      <td>Femel</td>\n",
       "      <td>0.986</td>\n",
       "      <td>United States</td>\n",
       "    </tr>\n",
       "    <tr>\n",
       "      <th>8</th>\n",
       "      <td>اسرا زارعی</td>\n",
       "      <td>اسرا</td>\n",
       "      <td>زارعی</td>\n",
       "      <td>Femel</td>\n",
       "      <td>0.885</td>\n",
       "      <td>Iran, Islamic Republic of</td>\n",
       "    </tr>\n",
       "    <tr>\n",
       "      <th>9</th>\n",
       "      <td>یلدا اکبر پور</td>\n",
       "      <td>یلدا</td>\n",
       "      <td>اکبر</td>\n",
       "      <td>Femel</td>\n",
       "      <td>0.851</td>\n",
       "      <td>Saudi Arabia</td>\n",
       "    </tr>\n",
       "  </tbody>\n",
       "</table>\n",
       "</div>"
      ],
      "text/plain": [
       "                  Name first_name   last_name Gender  Gender_Probability  \\\n",
       "0     Julie Washington      Julie  Washington  Femel               0.991   \n",
       "1      امیرعباس تهرانی   امیرعباس      تهرانی   Male               0.953   \n",
       "2   Stephanie Crawford  Stephanie    Crawford  Femel               0.995   \n",
       "3     Charles Anderson    Charles    Anderson   Male               0.984   \n",
       "4     Courtney Stewart   Courtney     Stewart  Femel               0.890   \n",
       "5          Andre Davis      Andre       Davis   Male               0.934   \n",
       "6  Stephanie Rodriguez  Stephanie   Rodriguez  Femel               0.995   \n",
       "7         Tina Simmons       Tina     Simmons  Femel               0.986   \n",
       "8           اسرا زارعی       اسرا       زارعی  Femel               0.885   \n",
       "9        یلدا اکبر پور       یلدا        اکبر  Femel               0.851   \n",
       "\n",
       "                     Country  \n",
       "0              United States  \n",
       "1  Iran, Islamic Republic of  \n",
       "2              United States  \n",
       "3              United States  \n",
       "4              United States  \n",
       "5              United States  \n",
       "6              United States  \n",
       "7              United States  \n",
       "8  Iran, Islamic Republic of  \n",
       "9               Saudi Arabia  "
      ]
     },
     "execution_count": 110,
     "metadata": {},
     "output_type": "execute_result"
    }
   ],
   "source": [
    "df"
   ]
  },
  {
   "cell_type": "markdown",
   "id": "c9e1b7b9-1452-4e0c-8510-0ae9a7d80117",
   "metadata": {},
   "source": [
    "## Country Probability"
   ]
  },
  {
   "cell_type": "code",
   "execution_count": 111,
   "id": "16c14689-fc6c-442d-97bb-3a346d540692",
   "metadata": {
    "tags": []
   },
   "outputs": [],
   "source": [
    "def country_probability(last_name):\n",
    "    try:\n",
    "        info = name_data_set.search(last_name)['last_name']\n",
    "        country = max(info['country'], key=info['country'].get)\n",
    "        return info['country'][country]\n",
    "    except:    \n",
    "        return None"
   ]
  },
  {
   "cell_type": "code",
   "execution_count": 113,
   "id": "e0648e00-c797-47de-bce3-ecfd632ef1ab",
   "metadata": {
    "tags": []
   },
   "outputs": [],
   "source": [
    "df = df.assign(Country_Probability = df['last_name'].apply(lambda x: country_probability(x)))"
   ]
  },
  {
   "cell_type": "code",
   "execution_count": 115,
   "id": "9682b2a1-31e2-49b5-bba6-fd0290e9247d",
   "metadata": {
    "tags": []
   },
   "outputs": [
    {
     "data": {
      "text/html": [
       "<div>\n",
       "<style scoped>\n",
       "    .dataframe tbody tr th:only-of-type {\n",
       "        vertical-align: middle;\n",
       "    }\n",
       "\n",
       "    .dataframe tbody tr th {\n",
       "        vertical-align: top;\n",
       "    }\n",
       "\n",
       "    .dataframe thead th {\n",
       "        text-align: right;\n",
       "    }\n",
       "</style>\n",
       "<table border=\"1\" class=\"dataframe\">\n",
       "  <thead>\n",
       "    <tr style=\"text-align: right;\">\n",
       "      <th></th>\n",
       "      <th>Name</th>\n",
       "      <th>first_name</th>\n",
       "      <th>last_name</th>\n",
       "      <th>Gender</th>\n",
       "      <th>Gender_Probability</th>\n",
       "      <th>Country</th>\n",
       "      <th>Country_Probability</th>\n",
       "    </tr>\n",
       "  </thead>\n",
       "  <tbody>\n",
       "    <tr>\n",
       "      <th>0</th>\n",
       "      <td>Julie Washington</td>\n",
       "      <td>Julie</td>\n",
       "      <td>Washington</td>\n",
       "      <td>Femel</td>\n",
       "      <td>0.991</td>\n",
       "      <td>United States</td>\n",
       "      <td>0.901</td>\n",
       "    </tr>\n",
       "    <tr>\n",
       "      <th>1</th>\n",
       "      <td>امیرعباس تهرانی</td>\n",
       "      <td>امیرعباس</td>\n",
       "      <td>تهرانی</td>\n",
       "      <td>Male</td>\n",
       "      <td>0.953</td>\n",
       "      <td>Iran, Islamic Republic of</td>\n",
       "      <td>0.846</td>\n",
       "    </tr>\n",
       "    <tr>\n",
       "      <th>2</th>\n",
       "      <td>Stephanie Crawford</td>\n",
       "      <td>Stephanie</td>\n",
       "      <td>Crawford</td>\n",
       "      <td>Femel</td>\n",
       "      <td>0.995</td>\n",
       "      <td>United States</td>\n",
       "      <td>0.582</td>\n",
       "    </tr>\n",
       "    <tr>\n",
       "      <th>3</th>\n",
       "      <td>Charles Anderson</td>\n",
       "      <td>Charles</td>\n",
       "      <td>Anderson</td>\n",
       "      <td>Male</td>\n",
       "      <td>0.984</td>\n",
       "      <td>United States</td>\n",
       "      <td>0.599</td>\n",
       "    </tr>\n",
       "    <tr>\n",
       "      <th>4</th>\n",
       "      <td>Courtney Stewart</td>\n",
       "      <td>Courtney</td>\n",
       "      <td>Stewart</td>\n",
       "      <td>Femel</td>\n",
       "      <td>0.890</td>\n",
       "      <td>United States</td>\n",
       "      <td>0.481</td>\n",
       "    </tr>\n",
       "    <tr>\n",
       "      <th>5</th>\n",
       "      <td>Andre Davis</td>\n",
       "      <td>Andre</td>\n",
       "      <td>Davis</td>\n",
       "      <td>Male</td>\n",
       "      <td>0.934</td>\n",
       "      <td>United States</td>\n",
       "      <td>0.729</td>\n",
       "    </tr>\n",
       "    <tr>\n",
       "      <th>6</th>\n",
       "      <td>Stephanie Rodriguez</td>\n",
       "      <td>Stephanie</td>\n",
       "      <td>Rodriguez</td>\n",
       "      <td>Femel</td>\n",
       "      <td>0.995</td>\n",
       "      <td>United States</td>\n",
       "      <td>0.289</td>\n",
       "    </tr>\n",
       "    <tr>\n",
       "      <th>7</th>\n",
       "      <td>Tina Simmons</td>\n",
       "      <td>Tina</td>\n",
       "      <td>Simmons</td>\n",
       "      <td>Femel</td>\n",
       "      <td>0.986</td>\n",
       "      <td>United States</td>\n",
       "      <td>0.720</td>\n",
       "    </tr>\n",
       "    <tr>\n",
       "      <th>8</th>\n",
       "      <td>اسرا زارعی</td>\n",
       "      <td>اسرا</td>\n",
       "      <td>زارعی</td>\n",
       "      <td>Femel</td>\n",
       "      <td>0.885</td>\n",
       "      <td>Iran, Islamic Republic of</td>\n",
       "      <td>0.939</td>\n",
       "    </tr>\n",
       "    <tr>\n",
       "      <th>9</th>\n",
       "      <td>یلدا اکبر پور</td>\n",
       "      <td>یلدا</td>\n",
       "      <td>اکبر</td>\n",
       "      <td>Femel</td>\n",
       "      <td>0.851</td>\n",
       "      <td>Saudi Arabia</td>\n",
       "      <td>0.325</td>\n",
       "    </tr>\n",
       "  </tbody>\n",
       "</table>\n",
       "</div>"
      ],
      "text/plain": [
       "                  Name first_name   last_name Gender  Gender_Probability  \\\n",
       "0     Julie Washington      Julie  Washington  Femel               0.991   \n",
       "1      امیرعباس تهرانی   امیرعباس      تهرانی   Male               0.953   \n",
       "2   Stephanie Crawford  Stephanie    Crawford  Femel               0.995   \n",
       "3     Charles Anderson    Charles    Anderson   Male               0.984   \n",
       "4     Courtney Stewart   Courtney     Stewart  Femel               0.890   \n",
       "5          Andre Davis      Andre       Davis   Male               0.934   \n",
       "6  Stephanie Rodriguez  Stephanie   Rodriguez  Femel               0.995   \n",
       "7         Tina Simmons       Tina     Simmons  Femel               0.986   \n",
       "8           اسرا زارعی       اسرا       زارعی  Femel               0.885   \n",
       "9        یلدا اکبر پور       یلدا        اکبر  Femel               0.851   \n",
       "\n",
       "                     Country  Country_Probability  \n",
       "0              United States                0.901  \n",
       "1  Iran, Islamic Republic of                0.846  \n",
       "2              United States                0.582  \n",
       "3              United States                0.599  \n",
       "4              United States                0.481  \n",
       "5              United States                0.729  \n",
       "6              United States                0.289  \n",
       "7              United States                0.720  \n",
       "8  Iran, Islamic Republic of                0.939  \n",
       "9               Saudi Arabia                0.325  "
      ]
     },
     "execution_count": 115,
     "metadata": {},
     "output_type": "execute_result"
    }
   ],
   "source": [
    "df"
   ]
  },
  {
   "cell_type": "markdown",
   "id": "c3ccf234-8b1a-4677-94f8-1455bdd52463",
   "metadata": {},
   "source": [
    "# Part 2"
   ]
  },
  {
   "cell_type": "markdown",
   "id": "c3536f4d-2ab5-4c8b-883a-71d9bd0535a2",
   "metadata": {
    "tags": []
   },
   "source": [
    "##  Table of Contents\n",
    "* required-libraries\n",
    "* extract Firstname\n",
    "* Gender\n",
    "* Gender probability\n",
    "* Country\n",
    "* Country probability\n"
   ]
  },
  {
   "cell_type": "markdown",
   "id": "c8dbb0dd-ab68-4141-b5ae-6beac92b5157",
   "metadata": {
    "tags": []
   },
   "source": [
    "## required-libraries"
   ]
  },
  {
   "cell_type": "code",
   "execution_count": 168,
   "id": "883b5f66-4839-4897-841c-217fcf2787ca",
   "metadata": {
    "tags": []
   },
   "outputs": [],
   "source": [
    "import json\n",
    "from collections import Counter"
   ]
  },
  {
   "cell_type": "code",
   "execution_count": 169,
   "id": "7eb8cf1e-fcc8-48cb-a315-dca573cbb581",
   "metadata": {
    "tags": []
   },
   "outputs": [],
   "source": [
    "with open('./data/pytopia-chat-export.json') as f:\n",
    "    data = json.load(f)"
   ]
  },
  {
   "cell_type": "markdown",
   "id": "beccf265-8ff8-4c0d-9023-8d53e6b68717",
   "metadata": {
    "tags": []
   },
   "source": [
    "## Extract First name"
   ]
  },
  {
   "cell_type": "code",
   "execution_count": 170,
   "id": "a676b01b-e78e-42af-bd35-21cbfdcb8561",
   "metadata": {
    "tags": []
   },
   "outputs": [],
   "source": [
    "names = []\n",
    "id_set = set()\n",
    "for msg in data['messages']:\n",
    "    if not msg.get('from'):\n",
    "        continue\n",
    "    elif msg['from_id'] in id_set:\n",
    "        continue\n",
    "    else:\n",
    "        id_set.add(msg['from_id'])\n",
    "        names.append(msg['from'])    "
   ]
  },
  {
   "cell_type": "code",
   "execution_count": 171,
   "id": "a34a3c1b-5e22-4922-b64f-43b8065bd438",
   "metadata": {
    "tags": []
   },
   "outputs": [
    {
     "data": {
      "text/plain": [
       "[('ali', 52),\n",
       " ('mohammad', 44),\n",
       " ('amir', 32),\n",
       " ('maryam', 25),\n",
       " ('zahra', 19),\n",
       " ('alireza', 18),\n",
       " ('fateme', 16),\n",
       " ('reza', 15),\n",
       " ('fatemeh', 14),\n",
       " ('mehdi', 13),\n",
       " ('mahdi', 12),\n",
       " ('sina', 12),\n",
       " ('erfan', 12),\n",
       " ('hossein', 11),\n",
       " ('masoud', 10),\n",
       " ('mahsa', 9),\n",
       " ('amin', 9),\n",
       " ('saeed', 8),\n",
       " ('mohammadreza', 8),\n",
       " ('milad', 8)]"
      ]
     },
     "execution_count": 171,
     "metadata": {},
     "output_type": "execute_result"
    }
   ],
   "source": [
    "first_name = [i.split()[0].lower() for i in names]\n",
    "first_name = list(filter(lambda fn: len(fn)> 2, first_name))\n",
    "first_name = list(filter(lambda fn: fn.isalpha(), first_name))\n",
    "\n",
    "Counter(first_name).most_common(20)"
   ]
  },
  {
   "cell_type": "code",
   "execution_count": 172,
   "id": "ce5885e0-1501-432c-bb84-c498df3167e8",
   "metadata": {
    "tags": []
   },
   "outputs": [],
   "source": [
    "df = pd.DataFrame(\n",
    "    {\n",
    "        'first_name':first_name\n",
    "    }\n",
    ")"
   ]
  },
  {
   "cell_type": "code",
   "execution_count": 173,
   "id": "07a1649f-648d-4a92-a6e8-b777b56e4731",
   "metadata": {
    "tags": []
   },
   "outputs": [
    {
     "data": {
      "text/html": [
       "<div>\n",
       "<style scoped>\n",
       "    .dataframe tbody tr th:only-of-type {\n",
       "        vertical-align: middle;\n",
       "    }\n",
       "\n",
       "    .dataframe tbody tr th {\n",
       "        vertical-align: top;\n",
       "    }\n",
       "\n",
       "    .dataframe thead th {\n",
       "        text-align: right;\n",
       "    }\n",
       "</style>\n",
       "<table border=\"1\" class=\"dataframe\">\n",
       "  <thead>\n",
       "    <tr style=\"text-align: right;\">\n",
       "      <th></th>\n",
       "      <th>first_name</th>\n",
       "    </tr>\n",
       "  </thead>\n",
       "  <tbody>\n",
       "    <tr>\n",
       "      <th>0</th>\n",
       "      <td>sobhan</td>\n",
       "    </tr>\n",
       "    <tr>\n",
       "      <th>1</th>\n",
       "      <td>good</td>\n",
       "    </tr>\n",
       "    <tr>\n",
       "      <th>2</th>\n",
       "      <td>sima</td>\n",
       "    </tr>\n",
       "    <tr>\n",
       "      <th>3</th>\n",
       "      <td>ali</td>\n",
       "    </tr>\n",
       "    <tr>\n",
       "      <th>4</th>\n",
       "      <td>mhmd</td>\n",
       "    </tr>\n",
       "    <tr>\n",
       "      <th>...</th>\n",
       "      <td>...</td>\n",
       "    </tr>\n",
       "    <tr>\n",
       "      <th>1223</th>\n",
       "      <td>mary</td>\n",
       "    </tr>\n",
       "    <tr>\n",
       "      <th>1224</th>\n",
       "      <td>saeid</td>\n",
       "    </tr>\n",
       "    <tr>\n",
       "      <th>1225</th>\n",
       "      <td>ᴀᴍɪʀᴀʟɪ</td>\n",
       "    </tr>\n",
       "    <tr>\n",
       "      <th>1226</th>\n",
       "      <td>ali</td>\n",
       "    </tr>\n",
       "    <tr>\n",
       "      <th>1227</th>\n",
       "      <td>aristocles</td>\n",
       "    </tr>\n",
       "  </tbody>\n",
       "</table>\n",
       "<p>1228 rows × 1 columns</p>\n",
       "</div>"
      ],
      "text/plain": [
       "      first_name\n",
       "0         sobhan\n",
       "1           good\n",
       "2           sima\n",
       "3            ali\n",
       "4           mhmd\n",
       "...          ...\n",
       "1223        mary\n",
       "1224       saeid\n",
       "1225     ᴀᴍɪʀᴀʟɪ\n",
       "1226         ali\n",
       "1227  aristocles\n",
       "\n",
       "[1228 rows x 1 columns]"
      ]
     },
     "execution_count": 173,
     "metadata": {},
     "output_type": "execute_result"
    }
   ],
   "source": [
    "df"
   ]
  },
  {
   "cell_type": "code",
   "execution_count": 174,
   "id": "33136bba-36cf-4555-a4d1-da784e4f95a8",
   "metadata": {
    "tags": []
   },
   "outputs": [
    {
     "data": {
      "text/plain": [
       "first_name\n",
       "ali           52\n",
       "mohammad      44\n",
       "amir          32\n",
       "maryam        25\n",
       "zahra         19\n",
       "              ..\n",
       "afshin         1\n",
       "naghme         1\n",
       "sorena         1\n",
       "hosna          1\n",
       "aristocles     1\n",
       "Name: count, Length: 593, dtype: int64"
      ]
     },
     "execution_count": 174,
     "metadata": {},
     "output_type": "execute_result"
    }
   ],
   "source": [
    "df['first_name'].value_counts()"
   ]
  },
  {
   "cell_type": "markdown",
   "id": "c03e0b7a-79ba-4a79-a641-215df3bfb1ad",
   "metadata": {},
   "source": [
    "## Gender"
   ]
  },
  {
   "cell_type": "code",
   "execution_count": 175,
   "id": "967b6a7f-d912-4d83-9bcb-e8ddd3c3b4e8",
   "metadata": {
    "tags": []
   },
   "outputs": [],
   "source": [
    "df['Gender'] = df['first_name'].apply(name_to_gender)"
   ]
  },
  {
   "cell_type": "code",
   "execution_count": 176,
   "id": "ede0a387-e3ab-4870-895d-e1939218590f",
   "metadata": {
    "tags": []
   },
   "outputs": [
    {
     "data": {
      "text/html": [
       "<div>\n",
       "<style scoped>\n",
       "    .dataframe tbody tr th:only-of-type {\n",
       "        vertical-align: middle;\n",
       "    }\n",
       "\n",
       "    .dataframe tbody tr th {\n",
       "        vertical-align: top;\n",
       "    }\n",
       "\n",
       "    .dataframe thead th {\n",
       "        text-align: right;\n",
       "    }\n",
       "</style>\n",
       "<table border=\"1\" class=\"dataframe\">\n",
       "  <thead>\n",
       "    <tr style=\"text-align: right;\">\n",
       "      <th></th>\n",
       "      <th>first_name</th>\n",
       "      <th>Gender</th>\n",
       "    </tr>\n",
       "  </thead>\n",
       "  <tbody>\n",
       "    <tr>\n",
       "      <th>0</th>\n",
       "      <td>sobhan</td>\n",
       "      <td>Male</td>\n",
       "    </tr>\n",
       "    <tr>\n",
       "      <th>1</th>\n",
       "      <td>good</td>\n",
       "      <td>Male</td>\n",
       "    </tr>\n",
       "    <tr>\n",
       "      <th>2</th>\n",
       "      <td>sima</td>\n",
       "      <td>Femel</td>\n",
       "    </tr>\n",
       "    <tr>\n",
       "      <th>3</th>\n",
       "      <td>ali</td>\n",
       "      <td>Male</td>\n",
       "    </tr>\n",
       "    <tr>\n",
       "      <th>4</th>\n",
       "      <td>mhmd</td>\n",
       "      <td>Male</td>\n",
       "    </tr>\n",
       "    <tr>\n",
       "      <th>...</th>\n",
       "      <td>...</td>\n",
       "      <td>...</td>\n",
       "    </tr>\n",
       "    <tr>\n",
       "      <th>1223</th>\n",
       "      <td>mary</td>\n",
       "      <td>Femel</td>\n",
       "    </tr>\n",
       "    <tr>\n",
       "      <th>1224</th>\n",
       "      <td>saeid</td>\n",
       "      <td>Male</td>\n",
       "    </tr>\n",
       "    <tr>\n",
       "      <th>1225</th>\n",
       "      <td>ᴀᴍɪʀᴀʟɪ</td>\n",
       "      <td>None</td>\n",
       "    </tr>\n",
       "    <tr>\n",
       "      <th>1226</th>\n",
       "      <td>ali</td>\n",
       "      <td>Male</td>\n",
       "    </tr>\n",
       "    <tr>\n",
       "      <th>1227</th>\n",
       "      <td>aristocles</td>\n",
       "      <td>None</td>\n",
       "    </tr>\n",
       "  </tbody>\n",
       "</table>\n",
       "<p>1228 rows × 2 columns</p>\n",
       "</div>"
      ],
      "text/plain": [
       "      first_name Gender\n",
       "0         sobhan   Male\n",
       "1           good   Male\n",
       "2           sima  Femel\n",
       "3            ali   Male\n",
       "4           mhmd   Male\n",
       "...          ...    ...\n",
       "1223        mary  Femel\n",
       "1224       saeid   Male\n",
       "1225     ᴀᴍɪʀᴀʟɪ   None\n",
       "1226         ali   Male\n",
       "1227  aristocles   None\n",
       "\n",
       "[1228 rows x 2 columns]"
      ]
     },
     "execution_count": 176,
     "metadata": {},
     "output_type": "execute_result"
    }
   ],
   "source": [
    "df"
   ]
  },
  {
   "cell_type": "code",
   "execution_count": 177,
   "id": "bb538c46-e038-4362-b2f2-43ed7d66a12e",
   "metadata": {
    "tags": []
   },
   "outputs": [
    {
     "data": {
      "text/plain": [
       "Gender\n",
       "Male     642\n",
       "Femel    469\n",
       "Name: count, dtype: int64"
      ]
     },
     "execution_count": 177,
     "metadata": {},
     "output_type": "execute_result"
    }
   ],
   "source": [
    "df['Gender'].value_counts()"
   ]
  },
  {
   "cell_type": "code",
   "execution_count": 178,
   "id": "159abe9f-de82-4c94-85ff-6a52f5a0d714",
   "metadata": {
    "tags": []
   },
   "outputs": [
    {
     "data": {
      "text/plain": [
       "117"
      ]
     },
     "execution_count": 178,
     "metadata": {},
     "output_type": "execute_result"
    }
   ],
   "source": [
    "df['Gender'].isna().sum()"
   ]
  },
  {
   "cell_type": "markdown",
   "id": "8c074afa-add0-40c7-b1a4-bcba3145f648",
   "metadata": {},
   "source": [
    "## Gender Probability"
   ]
  },
  {
   "cell_type": "code",
   "execution_count": 179,
   "id": "9291caa7-b0c0-4f5a-b610-a9c183594344",
   "metadata": {
    "tags": []
   },
   "outputs": [],
   "source": [
    "df['Gender_Probability'] = df['first_name'].apply(name_to_gender_probabilty)"
   ]
  },
  {
   "cell_type": "code",
   "execution_count": 180,
   "id": "a7f816ba-ed25-481c-937d-01383ee5711a",
   "metadata": {
    "tags": []
   },
   "outputs": [
    {
     "data": {
      "text/html": [
       "<div>\n",
       "<style scoped>\n",
       "    .dataframe tbody tr th:only-of-type {\n",
       "        vertical-align: middle;\n",
       "    }\n",
       "\n",
       "    .dataframe tbody tr th {\n",
       "        vertical-align: top;\n",
       "    }\n",
       "\n",
       "    .dataframe thead th {\n",
       "        text-align: right;\n",
       "    }\n",
       "</style>\n",
       "<table border=\"1\" class=\"dataframe\">\n",
       "  <thead>\n",
       "    <tr style=\"text-align: right;\">\n",
       "      <th></th>\n",
       "      <th>first_name</th>\n",
       "      <th>Gender</th>\n",
       "      <th>Gender_Probability</th>\n",
       "    </tr>\n",
       "  </thead>\n",
       "  <tbody>\n",
       "    <tr>\n",
       "      <th>0</th>\n",
       "      <td>sobhan</td>\n",
       "      <td>Male</td>\n",
       "      <td>0.923</td>\n",
       "    </tr>\n",
       "    <tr>\n",
       "      <th>1</th>\n",
       "      <td>good</td>\n",
       "      <td>Male</td>\n",
       "      <td>0.713</td>\n",
       "    </tr>\n",
       "    <tr>\n",
       "      <th>2</th>\n",
       "      <td>sima</td>\n",
       "      <td>Femel</td>\n",
       "      <td>0.878</td>\n",
       "    </tr>\n",
       "    <tr>\n",
       "      <th>3</th>\n",
       "      <td>ali</td>\n",
       "      <td>Male</td>\n",
       "      <td>0.942</td>\n",
       "    </tr>\n",
       "    <tr>\n",
       "      <th>4</th>\n",
       "      <td>mhmd</td>\n",
       "      <td>Male</td>\n",
       "      <td>0.971</td>\n",
       "    </tr>\n",
       "    <tr>\n",
       "      <th>...</th>\n",
       "      <td>...</td>\n",
       "      <td>...</td>\n",
       "      <td>...</td>\n",
       "    </tr>\n",
       "    <tr>\n",
       "      <th>1223</th>\n",
       "      <td>mary</td>\n",
       "      <td>Femel</td>\n",
       "      <td>0.985</td>\n",
       "    </tr>\n",
       "    <tr>\n",
       "      <th>1224</th>\n",
       "      <td>saeid</td>\n",
       "      <td>Male</td>\n",
       "      <td>0.979</td>\n",
       "    </tr>\n",
       "    <tr>\n",
       "      <th>1225</th>\n",
       "      <td>ᴀᴍɪʀᴀʟɪ</td>\n",
       "      <td>None</td>\n",
       "      <td>NaN</td>\n",
       "    </tr>\n",
       "    <tr>\n",
       "      <th>1226</th>\n",
       "      <td>ali</td>\n",
       "      <td>Male</td>\n",
       "      <td>0.942</td>\n",
       "    </tr>\n",
       "    <tr>\n",
       "      <th>1227</th>\n",
       "      <td>aristocles</td>\n",
       "      <td>None</td>\n",
       "      <td>NaN</td>\n",
       "    </tr>\n",
       "  </tbody>\n",
       "</table>\n",
       "<p>1228 rows × 3 columns</p>\n",
       "</div>"
      ],
      "text/plain": [
       "      first_name Gender  Gender_Probability\n",
       "0         sobhan   Male               0.923\n",
       "1           good   Male               0.713\n",
       "2           sima  Femel               0.878\n",
       "3            ali   Male               0.942\n",
       "4           mhmd   Male               0.971\n",
       "...          ...    ...                 ...\n",
       "1223        mary  Femel               0.985\n",
       "1224       saeid   Male               0.979\n",
       "1225     ᴀᴍɪʀᴀʟɪ   None                 NaN\n",
       "1226         ali   Male               0.942\n",
       "1227  aristocles   None                 NaN\n",
       "\n",
       "[1228 rows x 3 columns]"
      ]
     },
     "execution_count": 180,
     "metadata": {},
     "output_type": "execute_result"
    }
   ],
   "source": [
    "df"
   ]
  },
  {
   "cell_type": "markdown",
   "id": "598f8406-73b1-4535-8a98-d1fbad8e0648",
   "metadata": {},
   "source": [
    "## Country"
   ]
  },
  {
   "cell_type": "code",
   "execution_count": 181,
   "id": "0ce6f1e9-902c-456e-ba92-712f97202a2b",
   "metadata": {
    "tags": []
   },
   "outputs": [],
   "source": [
    "def country(first_name):\n",
    "    try:\n",
    "        info = name_data_set.search(first_name)['first_name']\n",
    "        return max(info['country'], key=info['country'].get)\n",
    "    except:    \n",
    "        return None"
   ]
  },
  {
   "cell_type": "code",
   "execution_count": 182,
   "id": "9ddbb05a-296d-479e-acce-21a92ccf77df",
   "metadata": {
    "tags": []
   },
   "outputs": [],
   "source": [
    "df['Country'] = df['first_name'].apply(country)"
   ]
  },
  {
   "cell_type": "code",
   "execution_count": 183,
   "id": "93866f60-978b-4874-8905-13d130e55216",
   "metadata": {
    "tags": []
   },
   "outputs": [
    {
     "data": {
      "text/html": [
       "<div>\n",
       "<style scoped>\n",
       "    .dataframe tbody tr th:only-of-type {\n",
       "        vertical-align: middle;\n",
       "    }\n",
       "\n",
       "    .dataframe tbody tr th {\n",
       "        vertical-align: top;\n",
       "    }\n",
       "\n",
       "    .dataframe thead th {\n",
       "        text-align: right;\n",
       "    }\n",
       "</style>\n",
       "<table border=\"1\" class=\"dataframe\">\n",
       "  <thead>\n",
       "    <tr style=\"text-align: right;\">\n",
       "      <th></th>\n",
       "      <th>first_name</th>\n",
       "      <th>Gender</th>\n",
       "      <th>Gender_Probability</th>\n",
       "      <th>Country</th>\n",
       "    </tr>\n",
       "  </thead>\n",
       "  <tbody>\n",
       "    <tr>\n",
       "      <th>0</th>\n",
       "      <td>sobhan</td>\n",
       "      <td>Male</td>\n",
       "      <td>0.923</td>\n",
       "      <td>Iran, Islamic Republic of</td>\n",
       "    </tr>\n",
       "    <tr>\n",
       "      <th>1</th>\n",
       "      <td>good</td>\n",
       "      <td>Male</td>\n",
       "      <td>0.713</td>\n",
       "      <td>Saudi Arabia</td>\n",
       "    </tr>\n",
       "    <tr>\n",
       "      <th>2</th>\n",
       "      <td>sima</td>\n",
       "      <td>Femel</td>\n",
       "      <td>0.878</td>\n",
       "      <td>Israel</td>\n",
       "    </tr>\n",
       "    <tr>\n",
       "      <th>3</th>\n",
       "      <td>ali</td>\n",
       "      <td>Male</td>\n",
       "      <td>0.942</td>\n",
       "      <td>Turkey</td>\n",
       "    </tr>\n",
       "    <tr>\n",
       "      <th>4</th>\n",
       "      <td>mhmd</td>\n",
       "      <td>Male</td>\n",
       "      <td>0.971</td>\n",
       "      <td>Egypt</td>\n",
       "    </tr>\n",
       "    <tr>\n",
       "      <th>...</th>\n",
       "      <td>...</td>\n",
       "      <td>...</td>\n",
       "      <td>...</td>\n",
       "      <td>...</td>\n",
       "    </tr>\n",
       "    <tr>\n",
       "      <th>1223</th>\n",
       "      <td>mary</td>\n",
       "      <td>Femel</td>\n",
       "      <td>0.985</td>\n",
       "      <td>United States</td>\n",
       "    </tr>\n",
       "    <tr>\n",
       "      <th>1224</th>\n",
       "      <td>saeid</td>\n",
       "      <td>Male</td>\n",
       "      <td>0.979</td>\n",
       "      <td>Iran, Islamic Republic of</td>\n",
       "    </tr>\n",
       "    <tr>\n",
       "      <th>1225</th>\n",
       "      <td>ᴀᴍɪʀᴀʟɪ</td>\n",
       "      <td>None</td>\n",
       "      <td>NaN</td>\n",
       "      <td>None</td>\n",
       "    </tr>\n",
       "    <tr>\n",
       "      <th>1226</th>\n",
       "      <td>ali</td>\n",
       "      <td>Male</td>\n",
       "      <td>0.942</td>\n",
       "      <td>Turkey</td>\n",
       "    </tr>\n",
       "    <tr>\n",
       "      <th>1227</th>\n",
       "      <td>aristocles</td>\n",
       "      <td>None</td>\n",
       "      <td>NaN</td>\n",
       "      <td>None</td>\n",
       "    </tr>\n",
       "  </tbody>\n",
       "</table>\n",
       "<p>1228 rows × 4 columns</p>\n",
       "</div>"
      ],
      "text/plain": [
       "      first_name Gender  Gender_Probability                    Country\n",
       "0         sobhan   Male               0.923  Iran, Islamic Republic of\n",
       "1           good   Male               0.713               Saudi Arabia\n",
       "2           sima  Femel               0.878                     Israel\n",
       "3            ali   Male               0.942                     Turkey\n",
       "4           mhmd   Male               0.971                      Egypt\n",
       "...          ...    ...                 ...                        ...\n",
       "1223        mary  Femel               0.985              United States\n",
       "1224       saeid   Male               0.979  Iran, Islamic Republic of\n",
       "1225     ᴀᴍɪʀᴀʟɪ   None                 NaN                       None\n",
       "1226         ali   Male               0.942                     Turkey\n",
       "1227  aristocles   None                 NaN                       None\n",
       "\n",
       "[1228 rows x 4 columns]"
      ]
     },
     "execution_count": 183,
     "metadata": {},
     "output_type": "execute_result"
    }
   ],
   "source": [
    "df"
   ]
  },
  {
   "cell_type": "code",
   "execution_count": 184,
   "id": "40aebe12-ac96-4045-843a-014783bc7012",
   "metadata": {
    "tags": []
   },
   "outputs": [
    {
     "data": {
      "text/plain": [
       "Country\n",
       "Iran, Islamic Republic of    588\n",
       "Saudi Arabia                 140\n",
       "Morocco                      113\n",
       "Egypt                         67\n",
       "Turkey                        66\n",
       "United States                 24\n",
       "Iraq                          18\n",
       "Italy                         12\n",
       "Malaysia                      12\n",
       "Algeria                        8\n",
       "Bangladesh                     8\n",
       "United Kingdom                 7\n",
       "France                         7\n",
       "Syrian Arab Republic           6\n",
       "Russian Federation             5\n",
       "Israel                         5\n",
       "South Africa                   5\n",
       "Netherlands                    5\n",
       "Tunisia                        4\n",
       "Germany                        3\n",
       "Albania                        3\n",
       "India                          3\n",
       "Mexico                         3\n",
       "Spain                          2\n",
       "Yemen                          2\n",
       "Belgium                        1\n",
       "Afghanistan                    1\n",
       "Bulgaria                       1\n",
       "Nigeria                        1\n",
       "Poland                         1\n",
       "Croatia                        1\n",
       "Hong Kong                      1\n",
       "Kuwait                         1\n",
       "Name: count, dtype: int64"
      ]
     },
     "execution_count": 184,
     "metadata": {},
     "output_type": "execute_result"
    }
   ],
   "source": [
    "df['Country'].value_counts()"
   ]
  },
  {
   "cell_type": "code",
   "execution_count": 185,
   "id": "d7256fd8-1ec7-4b58-b958-ad7b402a7169",
   "metadata": {
    "tags": []
   },
   "outputs": [
    {
     "data": {
      "text/plain": [
       "104"
      ]
     },
     "execution_count": 185,
     "metadata": {},
     "output_type": "execute_result"
    }
   ],
   "source": [
    "df['Country'].isna().sum()"
   ]
  },
  {
   "cell_type": "markdown",
   "id": "d339fd3c-025a-4b69-afc5-eb62b1ec29fc",
   "metadata": {},
   "source": [
    "## country_probability"
   ]
  },
  {
   "cell_type": "code",
   "execution_count": 186,
   "id": "c5950ea2-42fd-4533-9920-ad2e32680021",
   "metadata": {
    "tags": []
   },
   "outputs": [],
   "source": [
    "def country_probability(first_name):\n",
    "    try:\n",
    "        info = name_data_set.search(first_name)['first_name']\n",
    "        country = max(info['country'], key=info['country'].get)\n",
    "        return info['country'][country]\n",
    "    except:    \n",
    "        return None"
   ]
  },
  {
   "cell_type": "code",
   "execution_count": 187,
   "id": "9706f2dc-70d9-4e90-bcd1-bcaa7ead81c3",
   "metadata": {
    "tags": []
   },
   "outputs": [],
   "source": [
    "df['Country_Probability'] = df['first_name'].apply(country_probability)"
   ]
  },
  {
   "cell_type": "code",
   "execution_count": 188,
   "id": "fe6ebaf6-90e9-4a93-aa17-08d82cb62c8b",
   "metadata": {
    "tags": []
   },
   "outputs": [
    {
     "data": {
      "text/html": [
       "<div>\n",
       "<style scoped>\n",
       "    .dataframe tbody tr th:only-of-type {\n",
       "        vertical-align: middle;\n",
       "    }\n",
       "\n",
       "    .dataframe tbody tr th {\n",
       "        vertical-align: top;\n",
       "    }\n",
       "\n",
       "    .dataframe thead th {\n",
       "        text-align: right;\n",
       "    }\n",
       "</style>\n",
       "<table border=\"1\" class=\"dataframe\">\n",
       "  <thead>\n",
       "    <tr style=\"text-align: right;\">\n",
       "      <th></th>\n",
       "      <th>first_name</th>\n",
       "      <th>Gender</th>\n",
       "      <th>Gender_Probability</th>\n",
       "      <th>Country</th>\n",
       "      <th>Country_Probability</th>\n",
       "    </tr>\n",
       "  </thead>\n",
       "  <tbody>\n",
       "    <tr>\n",
       "      <th>0</th>\n",
       "      <td>sobhan</td>\n",
       "      <td>Male</td>\n",
       "      <td>0.923</td>\n",
       "      <td>Iran, Islamic Republic of</td>\n",
       "      <td>0.610</td>\n",
       "    </tr>\n",
       "    <tr>\n",
       "      <th>1</th>\n",
       "      <td>good</td>\n",
       "      <td>Male</td>\n",
       "      <td>0.713</td>\n",
       "      <td>Saudi Arabia</td>\n",
       "      <td>0.257</td>\n",
       "    </tr>\n",
       "    <tr>\n",
       "      <th>2</th>\n",
       "      <td>sima</td>\n",
       "      <td>Femel</td>\n",
       "      <td>0.878</td>\n",
       "      <td>Israel</td>\n",
       "      <td>0.157</td>\n",
       "    </tr>\n",
       "    <tr>\n",
       "      <th>3</th>\n",
       "      <td>ali</td>\n",
       "      <td>Male</td>\n",
       "      <td>0.942</td>\n",
       "      <td>Turkey</td>\n",
       "      <td>0.250</td>\n",
       "    </tr>\n",
       "    <tr>\n",
       "      <th>4</th>\n",
       "      <td>mhmd</td>\n",
       "      <td>Male</td>\n",
       "      <td>0.971</td>\n",
       "      <td>Egypt</td>\n",
       "      <td>0.258</td>\n",
       "    </tr>\n",
       "    <tr>\n",
       "      <th>...</th>\n",
       "      <td>...</td>\n",
       "      <td>...</td>\n",
       "      <td>...</td>\n",
       "      <td>...</td>\n",
       "      <td>...</td>\n",
       "    </tr>\n",
       "    <tr>\n",
       "      <th>1223</th>\n",
       "      <td>mary</td>\n",
       "      <td>Femel</td>\n",
       "      <td>0.985</td>\n",
       "      <td>United States</td>\n",
       "      <td>0.309</td>\n",
       "    </tr>\n",
       "    <tr>\n",
       "      <th>1224</th>\n",
       "      <td>saeid</td>\n",
       "      <td>Male</td>\n",
       "      <td>0.979</td>\n",
       "      <td>Iran, Islamic Republic of</td>\n",
       "      <td>0.655</td>\n",
       "    </tr>\n",
       "    <tr>\n",
       "      <th>1225</th>\n",
       "      <td>ᴀᴍɪʀᴀʟɪ</td>\n",
       "      <td>None</td>\n",
       "      <td>NaN</td>\n",
       "      <td>None</td>\n",
       "      <td>NaN</td>\n",
       "    </tr>\n",
       "    <tr>\n",
       "      <th>1226</th>\n",
       "      <td>ali</td>\n",
       "      <td>Male</td>\n",
       "      <td>0.942</td>\n",
       "      <td>Turkey</td>\n",
       "      <td>0.250</td>\n",
       "    </tr>\n",
       "    <tr>\n",
       "      <th>1227</th>\n",
       "      <td>aristocles</td>\n",
       "      <td>None</td>\n",
       "      <td>NaN</td>\n",
       "      <td>None</td>\n",
       "      <td>NaN</td>\n",
       "    </tr>\n",
       "  </tbody>\n",
       "</table>\n",
       "<p>1228 rows × 5 columns</p>\n",
       "</div>"
      ],
      "text/plain": [
       "      first_name Gender  Gender_Probability                    Country  \\\n",
       "0         sobhan   Male               0.923  Iran, Islamic Republic of   \n",
       "1           good   Male               0.713               Saudi Arabia   \n",
       "2           sima  Femel               0.878                     Israel   \n",
       "3            ali   Male               0.942                     Turkey   \n",
       "4           mhmd   Male               0.971                      Egypt   \n",
       "...          ...    ...                 ...                        ...   \n",
       "1223        mary  Femel               0.985              United States   \n",
       "1224       saeid   Male               0.979  Iran, Islamic Republic of   \n",
       "1225     ᴀᴍɪʀᴀʟɪ   None                 NaN                       None   \n",
       "1226         ali   Male               0.942                     Turkey   \n",
       "1227  aristocles   None                 NaN                       None   \n",
       "\n",
       "      Country_Probability  \n",
       "0                   0.610  \n",
       "1                   0.257  \n",
       "2                   0.157  \n",
       "3                   0.250  \n",
       "4                   0.258  \n",
       "...                   ...  \n",
       "1223                0.309  \n",
       "1224                0.655  \n",
       "1225                  NaN  \n",
       "1226                0.250  \n",
       "1227                  NaN  \n",
       "\n",
       "[1228 rows x 5 columns]"
      ]
     },
     "execution_count": 188,
     "metadata": {},
     "output_type": "execute_result"
    }
   ],
   "source": [
    "df\n"
   ]
  },
  {
   "cell_type": "code",
   "execution_count": 189,
   "id": "1b4ab041-7632-4e88-99fa-87330edbc4a0",
   "metadata": {
    "tags": []
   },
   "outputs": [
    {
     "data": {
      "text/plain": [
       "104"
      ]
     },
     "execution_count": 189,
     "metadata": {},
     "output_type": "execute_result"
    }
   ],
   "source": [
    "df['Country'].isna().sum()"
   ]
  },
  {
   "cell_type": "code",
   "execution_count": null,
   "id": "2bd4820b-6723-49f1-bffa-76af59a4ef67",
   "metadata": {},
   "outputs": [],
   "source": []
  }
 ],
 "metadata": {
  "kernelspec": {
   "display_name": "Python 3 (ipykernel)",
   "language": "python",
   "name": "python3"
  },
  "language_info": {
   "codemirror_mode": {
    "name": "ipython",
    "version": 3
   },
   "file_extension": ".py",
   "mimetype": "text/x-python",
   "name": "python",
   "nbconvert_exporter": "python",
   "pygments_lexer": "ipython3",
   "version": "3.10.13"
  }
 },
 "nbformat": 4,
 "nbformat_minor": 5
}
